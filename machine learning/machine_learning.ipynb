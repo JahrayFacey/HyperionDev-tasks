{
 "cells": [
  {
   "cell_type": "markdown",
   "metadata": {
    "id": "IBb6nSAY5T4I"
   },
   "source": [
    "# Machine Learning\n",
    "## Compulsory task"
   ]
  },
  {
   "cell_type": "markdown",
   "metadata": {
    "id": "N02Qu9_f1N45"
   },
   "source": [
    "1. For each of the following examples describe at least one possible input and\n",
    "output. Justify your answers:  \n",
    "* 1.1 A self-driving car\n",
    "* 1.2 Netflix recommendation system\n",
    "* 1.3 Signature recognition\n",
    "* 1.4 Medical diagnosis\n"
   ]
  },
  {
   "cell_type": "markdown",
   "metadata": {
    "id": "-8aBqprP3ypo"
   },
   "source": [
    "1. Answer here\n",
    "\n",
    "|      | Input(s)    | Output     |\n",
    "| ---- | ----------- | ---------  |\n",
    "| 1.1  |sensors             | movement A self driving car uses sensors to detect its surroundings and make movements based on them.\n",
    "| 1.2  |Watching and liking a movie movies        | The system will recognise that the user liked the content and will display similar media based on factors like genre\n",
    "| 1.3  |Scanner             | image and verification            | Uses pattern recognition to validate if the handwriting is the same.\n",
    "| 1.4  |ultrasound             | Patient medical information           | measures and records a patient's symptoms and provides a diagonosis"
   ]
  },
  {
   "cell_type": "markdown",
   "metadata": {
    "id": "l_I2f4C85yNF"
   },
   "source": [
    "\n",
    "2. For each of the following case studies, determine whether it is appropriate to utilise regression or classification machine learning algorithms. Justify your answers:\n",
    "* 2.1 Classifying emails as promotion or social based on their content and metadata.\n",
    "* 2.2 Forecasting the stock price of a company based on historical data and market trends.\n",
    "* 2.3 Sorting images of animals into different species based on their visual features.\n",
    "* 2.4 Predicting the likelihood of a patient having a particular disease based on medical history and diagnostic test results."
   ]
  },
  {
   "cell_type": "markdown",
   "metadata": {
    "id": "WgMUsqQr6qFU"
   },
   "source": [
    "2. Answer here\n",
    "* 2.1 \n",
    "Should use classification as it can scan the characteristics and content of the email and see if it aligns with one of the two types of email.\n",
    "* 2.2\n",
    "Should use regression as since it uses historical data, identifying patterns to figure out relationships would be the solution for figuring out predictions \n",
    "* 2.3\n",
    "This should utilize classification as it can scan the characteristics of the animals and grouping them by that \n",
    "* 2.4\n",
    "This should utilize regression as it revolves around predicition. It scans the history to output the most likely diagonsis."
   ]
  },
  {
   "cell_type": "markdown",
   "metadata": {
    "id": "b6f8UETG64hH"
   },
   "source": [
    "3. For each of the following real-world problems, determine whether it is appropriate to utilise a supervised or unsupervised machine learning algorithm. Justify your answers:\n",
    "* 3.1 Detecting anomalies in a manufacturing process using sensor data without prior knowledge of specific anomaly patterns.\n",
    "* 3.2 Predicting customer lifetime value based on historical transaction data and customer demographics.\n",
    "* 3.3 Segmenting customer demographics based on their purchase history, browsing behaviour, and preferences.\n",
    "* 3.4 Analysing social media posts to categorise them into different themes.\n"
   ]
  },
  {
   "cell_type": "markdown",
   "metadata": {
    "id": "W6dTYBvd675O"
   },
   "source": [
    "3. Answer here\n",
    "* 3.1\n",
    "As the data is unexpected and the relationship is unknown the solution is to use unsupervised learning to figure out the connection.\n",
    "* 3.2\n",
    "Supervised learning should be used as it's attempting to make predictions based on previously established data. \n",
    "* 3.3\n",
    "Should use supervise learning as it uses historical data and  input features to class customers together.\n",
    "* 3.4\n",
    "It's using pattern recognition to classify the theme of social media post. It's analysing characteristics to find underlying patterns and associate them with groups. The posts will have no label so it's best to use unsupervised learning."
   ]
  },
  {
   "cell_type": "markdown",
   "metadata": {
    "id": "bqsun96o64xe"
   },
   "source": [
    "4.\n",
    "For each of the following real-world problems, determine whether it is appropriate to utilise semi-supervised machine learning algorithms. Justify your answers:\n",
    "* 4.1 Predicting fraudulent financial transactions using a dataset where most transactions are labelled as fraudulent or legitimate.\n",
    "* 4.2 Analysing customer satisfaction surveys where only a small portion of the data is labelled with satisfaction ratings.\n",
    "*4.3 Identifying spam emails in a dataset where the majority of emails are labelled.\n",
    "* 4.4 Predicting the probability of default for credit card applicants based on their complete financial and credit-related information.\n"
   ]
  },
  {
   "cell_type": "markdown",
   "metadata": {
    "id": "aTWugZ6q68GF"
   },
   "source": [
    "4. Answer here\n",
    "* 4.1\n",
    "It's using labelled data to be able to predict an output, but most of the data is labelled. It's not appropriate to use semi-supervised learning.\n",
    "* 4.2\n",
    "A large majority of the data is unlabelled so using semi-supervised learning to discover connections \n",
    "* 4.3\n",
    "Semi-supervised only works when there is an abundance of unlabelled data. This problem wouldn't be suitable for semi-supervised learning.\n",
    "* 4.4\n",
    "It uses previously established data in an attempt to predict output data meaning that the all of the input will be lablelled. Semi-supervised learning is not suitable."
   ]
  }
 ],
 "metadata": {
  "colab": {
   "provenance": []
  },
  "kernelspec": {
   "display_name": "Python 3 (ipykernel)",
   "language": "python",
   "name": "python3"
  },
  "language_info": {
   "codemirror_mode": {
    "name": "ipython",
    "version": 3
   },
   "file_extension": ".py",
   "mimetype": "text/x-python",
   "name": "python",
   "nbconvert_exporter": "python",
   "pygments_lexer": "ipython3",
   "version": "3.11.5"
  }
 },
 "nbformat": 4,
 "nbformat_minor": 1
}
